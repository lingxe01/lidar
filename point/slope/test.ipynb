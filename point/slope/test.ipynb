{
 "cells": [
  {
   "cell_type": "code",
   "id": "initial_id",
   "metadata": {
    "collapsed": true,
    "ExecuteTime": {
     "end_time": "2024-06-26T12:26:32.474500Z",
     "start_time": "2024-06-26T12:26:32.461630Z"
    }
   },
   "source": [
    "import numpy as np\n",
    "import open3d as o3d\n",
    "from e_slope import preprocess_point_cloud"
   ],
   "outputs": [],
   "execution_count": 78
  },
  {
   "metadata": {
    "ExecuteTime": {
     "end_time": "2024-06-26T12:26:32.490364Z",
     "start_time": "2024-06-26T12:26:32.477002Z"
    }
   },
   "cell_type": "code",
   "source": [
    "pcd1 = o3d.io.read_point_cloud('Plane.1.pcd')\n",
    "pcd2 = o3d.io.read_point_cloud('Plane.2.pcd')\n",
    "pcd3 = o3d.io.read_point_cloud('Plane.3.pcd')\n",
    "box1 = o3d.io.read_point_cloud('Box.pcd')\n",
    "box2 = o3d.io.read_point_cloud('Box.sampled.pcd')\n",
    "box = box1 + box2\n",
    "pcd = pcd1 + pcd2 + pcd3\n",
    "# pcd = preprocess_point_cloud(pcd,voxel_size=0.03)\n",
    "pcd.paint_uniform_color([1, 0, 0])"
   ],
   "id": "290c67959b3dad11",
   "outputs": [
    {
     "data": {
      "text/plain": [
       "PointCloud with 13073 points."
      ]
     },
     "execution_count": 79,
     "metadata": {},
     "output_type": "execute_result"
    }
   ],
   "execution_count": 79
  },
  {
   "metadata": {
    "ExecuteTime": {
     "end_time": "2024-06-26T12:26:34.043850Z",
     "start_time": "2024-06-26T12:26:32.491469Z"
    }
   },
   "cell_type": "code",
   "source": "o3d.visualization.draw_geometries([pcd])",
   "id": "9023af6c6c23d012",
   "outputs": [],
   "execution_count": 80
  },
  {
   "metadata": {
    "ExecuteTime": {
     "end_time": "2024-06-26T12:26:34.560681Z",
     "start_time": "2024-06-26T12:26:34.046286Z"
    }
   },
   "cell_type": "code",
   "source": [
    "points = np.asarray(pcd.points)\n",
    "x_range = points[:, 0].max() - points[:, 0].min()\n",
    "y_range = points[:, 1].max() - points[:, 1].min()\n",
    "z_range = points[:, 2].max() - points[:, 2].min()\n",
    "o3d.visualization.draw_geometries([pcd], window_name=\"Original Point\")  # plane\n",
    "print(f'点的x轴范围：{points[:, 0].min()}~{points[:, 0].max()}')\n",
    "print(f'点的y轴范围：{points[:, 1].min()}~{points[:, 1].max()}')\n",
    "print(f'点的z轴范围：{points[:, 2].min()}~{points[:, 2].max()}')"
   ],
   "id": "b2d9ec2d46a26f15",
   "outputs": [
    {
     "name": "stdout",
     "output_type": "stream",
     "text": [
      "点的x轴范围：-0.5025805234909058~0.512271523475647\n",
      "点的y轴范围：-0.49930712580680847~1.8308430910110474\n",
      "点的z轴范围：-0.034461379051208496~0.4484121799468994\n"
     ]
    }
   ],
   "execution_count": 81
  },
  {
   "metadata": {
    "ExecuteTime": {
     "end_time": "2024-06-26T12:26:35.616067Z",
     "start_time": "2024-06-26T12:26:34.563645Z"
    }
   },
   "cell_type": "code",
   "source": [
    "# 随机生成每个点在每个轴上的偏移量，范围为1%到10%\n",
    "x_offsets = np.random.uniform(-0.03 * x_range, 0.03 * x_range, size=points.shape[0])\n",
    "y_offsets = np.random.uniform(-0.03 * y_range, 0.03 * y_range, size=points.shape[0])\n",
    "z_offsets = np.random.uniform(-0.03 * z_range, 0.03 * z_range, size=points.shape[0])\n",
    "# 将偏移量加到原始点云坐标上\n",
    "points[:, 0] += x_offsets\n",
    "points[:, 1] += y_offsets\n",
    "points[:, 2] += z_offsets\n",
    "pcd.points = o3d.utility.Vector3dVector(points)\n",
    "o3d.visualization.draw_geometries([pcd], window_name=\"Updated Point Cloud\")"
   ],
   "id": "8cf5ffa48b2d3e46",
   "outputs": [],
   "execution_count": 82
  },
  {
   "metadata": {
    "ExecuteTime": {
     "end_time": "2024-06-26T12:26:35.630884Z",
     "start_time": "2024-06-26T12:26:35.617256Z"
    }
   },
   "cell_type": "code",
   "source": [
    "print(f'随机点后的x轴范围：{points[:, 0].min()}~{points[:, 0].max()}')\n",
    "print(f'随机点后的y轴范围：{points[:, 1].min()}~{points[:, 1].max()}')\n",
    "print(f'随机点后的z轴范围：{points[:, 2].min()}~{points[:, 2].max()}')"
   ],
   "id": "8136c337ada959e3",
   "outputs": [
    {
     "name": "stdout",
     "output_type": "stream",
     "text": [
      "随机点后的x轴范围：-0.5302672154657813~0.5363210068676371\n",
      "随机点后的y轴范围：-0.5666854400268722~1.8961777677636122\n",
      "随机点后的z轴范围：-0.045594914919060106~0.4601276622692495\n"
     ]
    }
   ],
   "execution_count": 83
  },
  {
   "metadata": {
    "ExecuteTime": {
     "end_time": "2024-06-26T12:26:35.645823Z",
     "start_time": "2024-06-26T12:26:35.633431Z"
    }
   },
   "cell_type": "code",
   "source": [
    "def bilateral_filter(pcd, sigma_s=0.05, sigma_r=0.05, radius=0.05):\n",
    "    point_cloud = np.asarray(pcd.points)\n",
    "    def gaussian(x, sigma):\n",
    "        return np.exp(-0.5 * (x / sigma) ** 2)\n",
    "\n",
    "    filtered_points = np.zeros_like(points)\n",
    "    pcd_tree = o3d.geometry.KDTreeFlann(o3d.geometry.PointCloud(o3d.utility.Vector3dVector(points)))\n",
    "\n",
    "    for i in range(points.shape[0]):\n",
    "        [_, idx, _] = pcd_tree.search_radius_vector_3d(points[i], radius)\n",
    "        neighbors = points[idx, :]\n",
    "\n",
    "        spatial_weights = gaussian(np.linalg.norm(neighbors - points[i], axis=1), sigma_s)\n",
    "        intensity_weights = gaussian(np.linalg.norm(neighbors - points[i], axis=1), sigma_r)\n",
    "\n",
    "        bilateral_weights = spatial_weights * intensity_weights\n",
    "        bilateral_weights /= np.sum(bilateral_weights)\n",
    "\n",
    "        filtered_points[i] = np.sum(neighbors * bilateral_weights[:, np.newaxis], axis=0)\n",
    "\n",
    "    return filtered_points"
   ],
   "id": "6e4c068da7cb5bdf",
   "outputs": [],
   "execution_count": 84
  },
  {
   "metadata": {
    "ExecuteTime": {
     "end_time": "2024-06-26T12:26:36.686228Z",
     "start_time": "2024-06-26T12:26:35.647910Z"
    }
   },
   "cell_type": "code",
   "source": [
    "points = bilateral_filter(pcd)\n",
    "pcd.points = o3d.utility.Vector3dVector(points)\n",
    "o3d.visualization.draw_geometries([pcd], window_name=\"Filtered Point Cloud\")\n",
    "print(f'滤波后的x轴范围：{points[:, 0].min()}~{points[:, 0].max()}')\n",
    "print(f'滤波点后的y轴范围：{points[:, 1].min()}~{points[:, 1].max()}')\n",
    "print(f'滤波点后的z轴范围：{points[:, 2].min()}~{points[:, 2].max()}')"
   ],
   "id": "35d12f2c6c2e59b0",
   "outputs": [
    {
     "name": "stdout",
     "output_type": "stream",
     "text": [
      "滤波后的x轴范围：-0.5110434338417248~0.5209893491908648\n",
      "滤波点后的y轴范围：-0.5598775434023994~1.876666665649783\n",
      "滤波点后的z轴范围：-0.022494306660450946~0.4384442974349859\n"
     ]
    }
   ],
   "execution_count": 85
  },
  {
   "metadata": {
    "ExecuteTime": {
     "end_time": "2024-06-26T12:26:36.702728Z",
     "start_time": "2024-06-26T12:26:36.687466Z"
    }
   },
   "cell_type": "code",
   "source": [
    "def segment_planes(pcd, distance_threshold=0.05, ransac_n=5,\n",
    "                   num_iterations=3000):\n",
    "    plane_model, inliers = pcd.segment_plane(distance_threshold, ransac_n, num_iterations)\n",
    "    [a, b, c, d] = plane_model\n",
    "    normals = np.asarray([a, b, c])\n",
    "    inlier_cloud = pcd.select_by_index(inliers)\n",
    "    outlier_cloud = pcd.select_by_index(inliers, invert=True)\n",
    "    return inlier_cloud, outlier_cloud, normals"
   ],
   "id": "273466911a0789ba",
   "outputs": [],
   "execution_count": 86
  },
  {
   "metadata": {
    "ExecuteTime": {
     "end_time": "2024-06-26T12:26:36.994577Z",
     "start_time": "2024-06-26T12:26:36.704737Z"
    }
   },
   "cell_type": "code",
   "source": [
    "inlier_cloud_1, outlier_cloud_1, normal_vector_1 = segment_planes(pcd)  # plane\n",
    "inlier_cloud_2, outlier_cloud_2, normal_vector_2 = segment_planes(outlier_cloud_1)\n",
    "inlier_cloud_3, remaining_cloud, normal_vector_3 = segment_planes(outlier_cloud_2)"
   ],
   "id": "493537d37573f0fc",
   "outputs": [],
   "execution_count": 87
  },
  {
   "metadata": {
    "ExecuteTime": {
     "end_time": "2024-06-26T12:26:37.010119Z",
     "start_time": "2024-06-26T12:26:36.996701Z"
    }
   },
   "cell_type": "code",
   "source": [
    "def calculate_z_mean(point_cloud):\n",
    "    \"\"\"Calculate the mean of the Z-axis values of a point cloud.\"\"\"\n",
    "    points = np.asarray(point_cloud.points)\n",
    "    return np.mean(points[:, 2])"
   ],
   "id": "277cc74a85dcfed0",
   "outputs": [],
   "execution_count": 88
  },
  {
   "metadata": {
    "ExecuteTime": {
     "end_time": "2024-06-26T12:26:37.026181Z",
     "start_time": "2024-06-26T12:26:37.011123Z"
    }
   },
   "cell_type": "code",
   "source": [
    "def classify_point_clouds(pcds, normals):\n",
    "    \"\"\"Classify point clouds based on the mean Z value.\"\"\"\n",
    "    clusters = []\n",
    "    for pc, normal in zip(pcds, normals):\n",
    "        z_mean = calculate_z_mean(pc)\n",
    "        clusters.append((z_mean, pc, normal))\n",
    "\n",
    "    # Sort clusters based on the Z mean value\n",
    "    clusters_sorted = sorted(clusters, key=lambda x: x[0], reverse=True)\n",
    "\n",
    "    return clusters_sorted"
   ],
   "id": "b4a73ed62513d6b",
   "outputs": [],
   "execution_count": 89
  },
  {
   "metadata": {
    "ExecuteTime": {
     "end_time": "2024-06-26T12:26:37.042736Z",
     "start_time": "2024-06-26T12:26:37.028278Z"
    }
   },
   "cell_type": "code",
   "source": [
    "pcds = [inlier_cloud_1, inlier_cloud_2, inlier_cloud_3]\n",
    "normal_vectors = [normal_vector_1, normal_vector_2, normal_vector_3]\n",
    "#\n",
    "classified_clusters = classify_point_clouds(pcds, normal_vectors)\n",
    "\n",
    "# 动态创建变量名的字典\n",
    "clusters = {}\n",
    "normal_vectors_dict = {}\n",
    "# Output classification results and assign clusters and normal vectors\n",
    "for i, (z_mean, cluster, normal_vector) in enumerate(classified_clusters, start=1):\n",
    "    # Visualize point cloud (optional)\n",
    "    # o3d.visualization.draw_geometries([cluster])\n",
    "    clusters[f'cluster_{i}'] = cluster\n",
    "    normal_vectors_dict[f'normal_vector_{i}'] = normal_vector\n",
    "\n",
    "inlier_cloud_1 = clusters['cluster_1']\n",
    "inlier_cloud_2 = clusters['cluster_2']\n",
    "inlier_cloud_3 = clusters['cluster_3']\n",
    "\n",
    "normal_vector_1 = normal_vectors_dict['normal_vector_1']\n",
    "normal_vector_2 = normal_vectors_dict['normal_vector_2']\n",
    "normal_vector_3 = normal_vectors_dict['normal_vector_3']"
   ],
   "id": "141d0b5fae4f8600",
   "outputs": [],
   "execution_count": 90
  },
  {
   "metadata": {
    "ExecuteTime": {
     "end_time": "2024-06-26T12:26:40.767578Z",
     "start_time": "2024-06-26T12:26:37.045750Z"
    }
   },
   "cell_type": "code",
   "source": [
    "# # 显示分割结果\n",
    "inlier_cloud_1.paint_uniform_color([1.0, 0, 0])  # 将第一个平面内的点涂成红色\n",
    "inlier_cloud_2.paint_uniform_color([0, 1.0, 0])  # 将第二个平面内的点涂成绿色\n",
    "inlier_cloud_3.paint_uniform_color([1, 1, 0])  # 将第三个平面内的点涂成黄色\n",
    "remaining_cloud.paint_uniform_color([0, 0, 1.0])  # 将剩余点涂成蓝色\n",
    "o3d.visualization.draw_geometries([inlier_cloud_1, inlier_cloud_2, inlier_cloud_3,remaining_cloud],\n",
    "                                  window_name=\"Point Segmentation\")  # plane"
   ],
   "id": "be0112b858063c3f",
   "outputs": [],
   "execution_count": 91
  },
  {
   "metadata": {
    "ExecuteTime": {
     "end_time": "2024-06-26T12:26:40.783485Z",
     "start_time": "2024-06-26T12:26:40.768744Z"
    }
   },
   "cell_type": "code",
   "source": [
    "def get_slope(normal_1, normal_2):\n",
    "    cos_theta = np.dot(normal_1, normal_2) / (\n",
    "            np.linalg.norm(normal_1) * np.linalg.norm(normal_2))\n",
    "    angle = np.arccos(cos_theta)\n",
    "    angle_degrees = np.degrees(angle)\n",
    "    return angle_degrees"
   ],
   "id": "2867faa1ee5c6355",
   "outputs": [],
   "execution_count": 92
  },
  {
   "metadata": {
    "ExecuteTime": {
     "end_time": "2024-06-26T12:26:40.799532Z",
     "start_time": "2024-06-26T12:26:40.784558Z"
    }
   },
   "cell_type": "code",
   "source": [
    "# # 输出两个平面的法向量\n",
    "print(f\"First plane normal vector: {normal_vector_1}\")\n",
    "print(f\"Second plane normal vector: {normal_vector_2}\")\n",
    "print(f\"Third plane normal vector: {normal_vector_3}\")\n",
    "#\n",
    "angle_pred12 = get_slope(normal_vector_1, normal_vector_2)\n",
    "angle_pred23 = get_slope(normal_vector_2, normal_vector_3)\n",
    "print(f\"Angle_pred between the 1-2 planes: {angle_pred12} degrees\")\n",
    "print(f\"Angle_pred between the 2-3 planes: {angle_pred23} degrees\")\n",
    "\n",
    "normal_1 = np.array([-0.0152804, 0.182808, 0.98303])  # plane\n",
    "normal_2 = np.array([-0.020418, -0.583249, 0.812037])\n",
    "normal_3 = np.array([0, 0, 1])  # plane\n",
    "\n",
    "angle_truth12 = get_slope(normal_1, normal_2)\n",
    "angle_truth23 = get_slope(normal_2, normal_3)\n",
    "print(f\"Angle_truth between the 1-2 planes: {angle_truth12} degrees\")\n",
    "print(f\"Angle_truth between the 2-3 planes: {angle_truth23} degrees\")\n",
    "angle_error12 = abs(angle_truth12 - angle_pred12) / angle_truth12 * 100\n",
    "angle_error23 = abs(angle_truth23 - angle_pred23) / angle_truth23 * 100\n",
    "print(f\"Error between 1-2 planes: {angle_error12} %\")\n",
    "print(f\"Error between 2-3 planes: {angle_error23} %\")"
   ],
   "id": "fd847c6e867d10d3",
   "outputs": [
    {
     "name": "stdout",
     "output_type": "stream",
     "text": [
      "First plane normal vector: [-0.01489073  0.15149347  0.98834609]\n",
      "Second plane normal vector: [-0.01799653 -0.56039931  0.82802701]\n",
      "Third plane normal vector: [-0.00428828 -0.04943856  0.99876796]\n",
      "Angle_pred between the 1-2 planes: 42.79843622391565 degrees\n",
      "Angle_pred between the 2-3 planes: 31.263527688030308 degrees\n",
      "Angle_truth between the 1-2 planes: 46.21565577111552 degrees\n",
      "Angle_truth between the 2-3 planes: 35.704583203040684 degrees\n",
      "Error between 1-2 planes: 7.394073480475441 %\n",
      "Error between 2-3 planes: 12.438334568297567 %\n"
     ]
    }
   ],
   "execution_count": 93
  },
  {
   "metadata": {
    "ExecuteTime": {
     "end_time": "2024-06-26T12:26:40.814798Z",
     "start_time": "2024-06-26T12:26:40.800714Z"
    }
   },
   "cell_type": "code",
   "source": "",
   "id": "bdda34f4c537a9d0",
   "outputs": [],
   "execution_count": 93
  }
 ],
 "metadata": {
  "kernelspec": {
   "display_name": "Python 3",
   "language": "python",
   "name": "python3"
  },
  "language_info": {
   "codemirror_mode": {
    "name": "ipython",
    "version": 2
   },
   "file_extension": ".py",
   "mimetype": "text/x-python",
   "name": "python",
   "nbconvert_exporter": "python",
   "pygments_lexer": "ipython2",
   "version": "2.7.6"
  }
 },
 "nbformat": 4,
 "nbformat_minor": 5
}
