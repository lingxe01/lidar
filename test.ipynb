{
 "cells": [
  {
   "cell_type": "code",
   "execution_count": 1,
   "id": "initial_id",
   "metadata": {
    "ExecuteTime": {
     "end_time": "2024-07-10T08:49:39.825534Z",
     "start_time": "2024-07-10T08:49:39.553268Z"
    },
    "collapsed": true
   },
   "outputs": [],
   "source": [
    "import open3d as o3d\n",
    "import cv2"
   ]
  },
  {
   "cell_type": "code",
   "execution_count": 2,
   "id": "a5b398afd763baf9",
   "metadata": {
    "ExecuteTime": {
     "end_time": "2024-07-10T08:50:20.912211Z",
     "start_time": "2024-07-10T08:50:20.889811Z"
    }
   },
   "outputs": [],
   "source": [
    "point_path ='D:\\Desktop\\pcd_output\\\\1719039055.067459822.pcd'\n",
    "pcd = o3d.io.read_point_cloud(point_path)"
   ]
  },
  {
   "cell_type": "code",
   "execution_count": 3,
   "id": "379329b3c03bca2e",
   "metadata": {
    "ExecuteTime": {
     "end_time": "2024-07-10T08:50:45.735986Z",
     "start_time": "2024-07-10T08:50:26.498466Z"
    }
   },
   "outputs": [],
   "source": [
    "o3d.visualization.draw_geometries([pcd])"
   ]
  },
  {
   "cell_type": "code",
   "execution_count": 2,
   "id": "2d27008b",
   "metadata": {},
   "outputs": [
    {
     "name": "stdout",
     "output_type": "stream",
     "text": [
      "无法打开视频流\n",
      "无法接收帧（可能是流结束了）\n"
     ]
    },
    {
     "ename": "",
     "evalue": "",
     "output_type": "error",
     "traceback": [
      "\u001b[1;31m在当前单元格或上一个单元格中执行代码时 Kernel 崩溃。\n",
      "\u001b[1;31m请查看单元格中的代码，以确定故障的可能原因。\n",
      "\u001b[1;31m单击<a href='https://aka.ms/vscodeJupyterKernelCrash'>此处</a>了解详细信息。\n",
      "\u001b[1;31m有关更多详细信息，请查看 Jupyter <a href='command:jupyter.viewOutput'>log</a>。"
     ]
    }
   ],
   "source": [
    "# IP摄像头的URL，假设是MJPEG流\n",
    "url = 'http://192.168.1.37:8080/video'\n",
    "\n",
    "# 打开视频流\n",
    "cap = cv2.VideoCapture(url)\n",
    "\n",
    "if not cap.isOpened():\n",
    "    print(\"无法打开视频流\")\n",
    "    exit()\n",
    "\n",
    "# 循环读取和显示视频帧\n",
    "while True:\n",
    "    ret, frame = cap.read()\n",
    "    if not ret:\n",
    "        print(\"无法接收帧（可能是流结束了）\")\n",
    "        break\n",
    "\n",
    "    # 显示帧\n",
    "    cv2.imshow('Video Stream', frame)\n",
    "\n",
    "    # 按下 'q' 键退出循环\n",
    "    if cv2.waitKey(1) & 0xFF == ord('q'):\n",
    "        break\n",
    "\n",
    "# 释放视频捕捉对象并关闭所有OpenCV窗口\n",
    "cap.release()\n",
    "cv2.destroyAllWindows()"
   ]
  }
 ],
 "metadata": {
  "kernelspec": {
   "display_name": "Python 3",
   "language": "python",
   "name": "python3"
  },
  "language_info": {
   "codemirror_mode": {
    "name": "ipython",
    "version": 3
   },
   "file_extension": ".py",
   "mimetype": "text/x-python",
   "name": "python",
   "nbconvert_exporter": "python",
   "pygments_lexer": "ipython3",
   "version": "3.8.19"
  }
 },
 "nbformat": 4,
 "nbformat_minor": 5
}
