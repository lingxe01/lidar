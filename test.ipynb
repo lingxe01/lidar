{
 "cells": [
  {
   "cell_type": "code",
   "execution_count": 21,
   "id": "initial_id",
   "metadata": {
    "ExecuteTime": {
     "end_time": "2024-07-10T08:49:39.825534Z",
     "start_time": "2024-07-10T08:49:39.553268Z"
    },
    "collapsed": true
   },
   "outputs": [],
   "source": [
    "nums = [0,0,1,1,1,2,2,3,3,4]"
   ]
  },
  {
   "cell_type": "code",
   "execution_count": null,
   "id": "a802ed2e",
   "metadata": {},
   "outputs": [],
   "source": [
    "def removeDuplicates(nums):\n",
    "    \"\"\"\n",
    "    :type nums: List[int]\n",
    "    :rtype: int\n",
    "    \"\"\"\n",
    "    for i in range(len(nums) - 1):\n",
    "        if nums[i] == nums[i + 1]:\n",
    "            nums.remove(nums[i + 1])\n",
    "            i += 1\n",
    "            print(i)\n",
    "    k = len(nums)\n",
    "    return k, nums\n",
    "removeDuplicates(nums)"
   ]
  },
  {
   "cell_type": "code",
   "execution_count": 57,
   "id": "f9717b35",
   "metadata": {},
   "outputs": [],
   "source": [
    "nums = [0,0,1,1,1,2,2,3,3,4]\n",
    "i=0\n",
    "while i < len(nums):\n",
    "    if i+1<len(nums):\n",
    "        if nums[i] == nums[i + 1]:\n",
    "            nums.remove(nums[i + 1])\n",
    "            i-=1\n",
    "    i+=1\n",
    "k = len(nums)"
   ]
  },
  {
   "cell_type": "code",
   "execution_count": null,
   "id": "dc6ec54d",
   "metadata": {},
   "outputs": [],
   "source": [
    "def fib(n):\n",
    "    \"\"\"\n",
    "    :type n: int\n",
    "    :rtype: int\n",
    "    \"\"\"\n",
    "    fib = [0,1]\n",
    "    if n >= 2:\n",
    "        for i in range(2, n + 1):\n",
    "            fib.append(fib[i - 1] + fib[i - 2])\n",
    "    return fib[n]\n",
    "print(fib(2))"
   ]
  },
  {
   "cell_type": "code",
   "execution_count": null,
   "id": "2253dcd2",
   "metadata": {},
   "outputs": [],
   "source": [
    "def missingNumber(nums):\n",
    "    \"\"\"\n",
    "    :type nums: List[int]\n",
    "    :rtype: int\n",
    "    \"\"\"\n",
    "    nums.sort()\n",
    "    n = len(nums)\n",
    "    i = 0\n",
    "    while i < n:\n",
    "        if nums[i+1] - nums[i] != 1:\n",
    "            break\n",
    "        else:\n",
    "            i += 1\n",
    "    return i + 1\n",
    "nums = [8,6,4,2,3,5,7,0,1]\n",
    "nums.sort()\n",
    "n = len(nums)\n",
    "print(n)\n",
    "i = 0\n",
    "while i < n:\n",
    "    if i == n-1:\n",
    "        break\n",
    "    elif nums[i+1] - nums[i] != 1:\n",
    "        break\n",
    "    else:\n",
    "        i += 1\n"
   ]
  },
  {
   "cell_type": "code",
   "execution_count": null,
   "id": "42bab25d",
   "metadata": {},
   "outputs": [],
   "source": [
    "nums = [1]\n",
    "def missingNumber(nums):\n",
    "    \"\"\"\n",
    "    :type nums: List[int]\n",
    "    :rtype: int\n",
    "    \"\"\"\n",
    "    nums.sort()\n",
    "    n = len(nums)\n",
    "    i = 0\n",
    "    while i < n:\n",
    "        if nums[0] != 0:\n",
    "            return 0\n",
    "        elif i == n - 1:\n",
    "            return n\n",
    "        elif nums[i + 1] - nums[i] != 1:\n",
    "            return i + 1\n",
    "        else:\n",
    "            i += 1\n",
    "missingNumber(nums)"
   ]
  },
  {
   "cell_type": "code",
   "execution_count": null,
   "id": "b87dd890",
   "metadata": {},
   "outputs": [],
   "source": [
    "nums=[-100,-98,-1,2,3,4]\n",
    "def maximumProduct(nums):\n",
    "    \"\"\"\n",
    "    :type nums: List[int]\n",
    "    :rtype: int\n",
    "    \"\"\"\n",
    "    nums.sort()\n",
    "    a = nums[-1] * nums[-2] * nums[-3]\n",
    "    if nums[0] > 0:\n",
    "        return a\n",
    "    if nums[0] and nums[1] < 0:\n",
    "        if nums[-1] > 0:\n",
    "            if nums[0] * nums[1] * nums[-1] > a:\n",
    "                a = nums[0] * nums[1] * nums[-1]\n",
    "    return a\n",
    "maximumProduct(nums)"
   ]
  },
  {
   "cell_type": "code",
   "execution_count": null,
   "id": "3041e494",
   "metadata": {},
   "outputs": [],
   "source": [
    "nums=[1,1,1,3,3,4,3,2,4,2]\n",
    "len(set(nums))"
   ]
  },
  {
   "cell_type": "code",
   "execution_count": null,
   "id": "26ac09b5",
   "metadata": {},
   "outputs": [],
   "source": [
    "nums = [4,2,5,7]\n",
    "arr1=[]\n",
    "arr2=[]\n",
    "result=[]\n",
    "for i in nums:\n",
    "    if i%2==0:\n",
    "        arr1.append(i)\n",
    "    else:\n",
    "        arr2.append(i)\n",
    "for j in range(len(arr1)):\n",
    "    result.append(arr1[j])\n",
    "    result.append(arr2[j])\n",
    "print(result)\n",
    "print(arr1,arr2)"
   ]
  },
  {
   "cell_type": "code",
   "execution_count": null,
   "id": "ee839ed5d0089044",
   "metadata": {
    "ExecuteTime": {
     "end_time": "2024-08-06T01:32:38.579728Z",
     "start_time": "2024-08-06T01:32:38.557728Z"
    }
   },
   "outputs": [],
   "source": [
    "import numpy as np\n",
    "from scipy.optimize import fsolve\n",
    "\n",
    "# 定义方程\n",
    "def equation(x):\n",
    "    return np.sin(x) + 1 - x\n",
    "\n",
    "# 选择初始猜测\n",
    "initial_guess = 0.5\n",
    "tolerance = 1e-16\n",
    "\n",
    "# 使用fsolve找到解\n",
    "solution = fsolve(equation, initial_guess,xtol=tolerance)\n",
    "\n",
    "print(f\"解为: {solution[0]:.16f}\")"
   ]
  },
  {
   "cell_type": "code",
   "execution_count": null,
   "id": "9bf770a84a7d0210",
   "metadata": {
    "ExecuteTime": {
     "end_time": "2024-08-09T06:56:32.469774Z",
     "start_time": "2024-08-09T06:56:32.451889Z"
    }
   },
   "outputs": [],
   "source": [
    "for i in range(1,10):\n",
    "    n = 1\n",
    "    while n <= i:\n",
    "        print(f\"{n}*{i}={n*i}\\t\",end=\"\")\n",
    "        n+=1\n",
    "    print(\"\\n\")"
   ]
  },
  {
   "cell_type": "code",
   "execution_count": null,
   "id": "401603231e35b062",
   "metadata": {
    "ExecuteTime": {
     "end_time": "2024-09-03T02:35:22.608704Z",
     "start_time": "2024-09-03T02:35:22.592180Z"
    }
   },
   "outputs": [],
   "source": [
    "digits = [1,2,3]\n",
    "for i in digits[::-1]:\n",
    "    print(i)"
   ]
  },
  {
   "cell_type": "code",
   "execution_count": 24,
   "id": "52a31adf",
   "metadata": {},
   "outputs": [
    {
     "name": "stdout",
     "output_type": "stream",
     "text": [
      "[2, 2, 1]\n",
      "2\n"
     ]
    }
   ],
   "source": [
    "nums=[3,2,2,1]\n",
    "val =3\n",
    "# k = 2\n",
    "nums.remove(val)\n",
    "print(nums)\n",
    "print(k)"
   ]
  },
  {
   "cell_type": "code",
   "execution_count": 28,
   "id": "ca0d2ed5",
   "metadata": {},
   "outputs": [
    {
     "name": "stdout",
     "output_type": "stream",
     "text": [
      "[0, 1, 2, 3, 4, 5, 6, 7, 8, 9]\n"
     ]
    }
   ],
   "source": [
    "result= list(range(10))\n",
    "print(result)\n",
    "n = len(result)\n",
    "i ,j = 0,n-1"
   ]
  }
 ],
 "metadata": {
  "kernelspec": {
   "display_name": "Python 3",
   "language": "python",
   "name": "python3"
  },
  "language_info": {
   "codemirror_mode": {
    "name": "ipython",
    "version": 3
   },
   "file_extension": ".py",
   "mimetype": "text/x-python",
   "name": "python",
   "nbconvert_exporter": "python",
   "pygments_lexer": "ipython3",
   "version": "3.12.4"
  }
 },
 "nbformat": 4,
 "nbformat_minor": 5
}
