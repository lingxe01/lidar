{
 "cells": [
  {
   "cell_type": "code",
   "execution_count": 21,
   "id": "initial_id",
   "metadata": {
    "ExecuteTime": {
     "end_time": "2024-07-10T08:49:39.825534Z",
     "start_time": "2024-07-10T08:49:39.553268Z"
    },
    "collapsed": true
   },
   "outputs": [],
   "source": [
    "nums = [0,0,1,1,1,2,2,3,3,4]"
   ]
  },
  {
   "cell_type": "code",
   "execution_count": 19,
   "id": "a802ed2e",
   "metadata": {},
   "outputs": [
    {
     "data": {
      "text/plain": [
       "(5, [0, 1, 2, 3, 4])"
      ]
     },
     "execution_count": 19,
     "metadata": {},
     "output_type": "execute_result"
    }
   ],
   "source": [
    "def removeDuplicates(nums):\n",
    "    \"\"\"\n",
    "    :type nums: List[int]\n",
    "    :rtype: int\n",
    "    \"\"\"\n",
    "    for i in range(len(nums) - 1):\n",
    "        if nums[i] == nums[i + 1]:\n",
    "            nums.remove(nums[i + 1])\n",
    "            i += 1\n",
    "            print(i)\n",
    "    k = len(nums)\n",
    "    return k, nums\n",
    "removeDuplicates(nums)"
   ]
  },
  {
   "cell_type": "code",
   "execution_count": 57,
   "id": "f9717b35",
   "metadata": {},
   "outputs": [],
   "source": [
    "nums = [0,0,1,1,1,2,2,3,3,4]\n",
    "i=0\n",
    "while i < len(nums):\n",
    "    if i+1<len(nums):\n",
    "        if nums[i] == nums[i + 1]:\n",
    "            nums.remove(nums[i + 1])\n",
    "            i-=1\n",
    "    i+=1\n",
    "k = len(nums)"
   ]
  },
  {
   "cell_type": "code",
   "execution_count": 69,
   "id": "dc6ec54d",
   "metadata": {},
   "outputs": [
    {
     "name": "stdout",
     "output_type": "stream",
     "text": [
      "1\n"
     ]
    }
   ],
   "source": [
    "def fib(n):\n",
    "    \"\"\"\n",
    "    :type n: int\n",
    "    :rtype: int\n",
    "    \"\"\"\n",
    "    fib = [0,1]\n",
    "    if n >= 2:\n",
    "        for i in range(2, n + 1):\n",
    "            fib.append(fib[i - 1] + fib[i - 2])\n",
    "    return fib[n]\n",
    "print(fib(2))"
   ]
  },
  {
   "cell_type": "code",
   "execution_count": 79,
   "id": "2253dcd2",
   "metadata": {},
   "outputs": [
    {
     "name": "stdout",
     "output_type": "stream",
     "text": [
      "9\n"
     ]
    }
   ],
   "source": [
    "def missingNumber(nums):\n",
    "    \"\"\"\n",
    "    :type nums: List[int]\n",
    "    :rtype: int\n",
    "    \"\"\"\n",
    "    nums.sort()\n",
    "    n = len(nums)\n",
    "    i = 0\n",
    "    while i < n:\n",
    "        if nums[i+1] - nums[i] != 1:\n",
    "            break\n",
    "        else:\n",
    "            i += 1\n",
    "    return i + 1\n",
    "nums = [8,6,4,2,3,5,7,0,1]\n",
    "nums.sort()\n",
    "n = len(nums)\n",
    "print(n)\n",
    "i = 0\n",
    "while i < n:\n",
    "    if i == n-1:\n",
    "        break\n",
    "    elif nums[i+1] - nums[i] != 1:\n",
    "        break\n",
    "    else:\n",
    "        i += 1\n"
   ]
  },
  {
   "cell_type": "code",
   "execution_count": 86,
   "id": "42bab25d",
   "metadata": {},
   "outputs": [
    {
     "data": {
      "text/plain": [
       "0"
      ]
     },
     "execution_count": 86,
     "metadata": {},
     "output_type": "execute_result"
    }
   ],
   "source": [
    "nums = [1]\n",
    "def missingNumber(nums):\n",
    "    \"\"\"\n",
    "    :type nums: List[int]\n",
    "    :rtype: int\n",
    "    \"\"\"\n",
    "    nums.sort()\n",
    "    n = len(nums)\n",
    "    i = 0\n",
    "    while i < n:\n",
    "        if nums[0] != 0:\n",
    "            return 0\n",
    "        elif i == n - 1:\n",
    "            return n\n",
    "        elif nums[i + 1] - nums[i] != 1:\n",
    "            return i + 1\n",
    "        else:\n",
    "            i += 1\n",
    "missingNumber(nums)"
   ]
  },
  {
   "cell_type": "code",
   "execution_count": 90,
   "id": "b87dd890",
   "metadata": {},
   "outputs": [
    {
     "data": {
      "text/plain": [
       "39200"
      ]
     },
     "execution_count": 90,
     "metadata": {},
     "output_type": "execute_result"
    }
   ],
   "source": [
    "nums=[-100,-98,-1,2,3,4]\n",
    "def maximumProduct(nums):\n",
    "    \"\"\"\n",
    "    :type nums: List[int]\n",
    "    :rtype: int\n",
    "    \"\"\"\n",
    "    nums.sort()\n",
    "    a = nums[-1] * nums[-2] * nums[-3]\n",
    "    if nums[0] > 0:\n",
    "        return a\n",
    "    if nums[0] and nums[1] < 0:\n",
    "        if nums[-1] > 0:\n",
    "            if nums[0] * nums[1] * nums[-1] > a:\n",
    "                a = nums[0] * nums[1] * nums[-1]\n",
    "    return a\n",
    "maximumProduct(nums)"
   ]
  },
  {
   "cell_type": "code",
   "execution_count": 2,
   "id": "3041e494",
   "metadata": {},
   "outputs": [
    {
     "data": {
      "text/plain": [
       "4"
      ]
     },
     "execution_count": 2,
     "metadata": {},
     "output_type": "execute_result"
    }
   ],
   "source": [
    "nums=[1,1,1,3,3,4,3,2,4,2]\n",
    "len(set(nums))"
   ]
  },
  {
   "cell_type": "code",
   "execution_count": 14,
   "id": "26ac09b5",
   "metadata": {},
   "outputs": [
    {
     "name": "stdout",
     "output_type": "stream",
     "text": [
      "[4, 5, 2, 7]\n",
      "[4, 2] [5, 7]\n"
     ]
    }
   ],
   "source": [
    "nums = [4,2,5,7]\n",
    "arr1=[]\n",
    "arr2=[]\n",
    "result=[]\n",
    "for i in nums:\n",
    "    if i%2==0:\n",
    "        arr1.append(i)\n",
    "    else:\n",
    "        arr2.append(i)\n",
    "for j in range(len(arr1)):\n",
    "    result.append(arr1[j])\n",
    "    result.append(arr2[j])\n",
    "print(result)\n",
    "print(arr1,arr2)"
   ]
  },
  {
   "metadata": {
    "ExecuteTime": {
     "end_time": "2024-08-06T01:32:38.579728Z",
     "start_time": "2024-08-06T01:32:38.557728Z"
    }
   },
   "cell_type": "code",
   "source": [
    "import numpy as np\n",
    "from scipy.optimize import fsolve\n",
    "\n",
    "# 定义方程\n",
    "def equation(x):\n",
    "    return np.sin(x) + 1 - x\n",
    "\n",
    "# 选择初始猜测\n",
    "initial_guess = 0.5\n",
    "tolerance = 1e-16\n",
    "\n",
    "# 使用fsolve找到解\n",
    "solution = fsolve(equation, initial_guess,xtol=tolerance)\n",
    "\n",
    "print(f\"解为: {solution[0]:.16f}\")"
   ],
   "id": "ee839ed5d0089044",
   "outputs": [
    {
     "name": "stdout",
     "output_type": "stream",
     "text": [
      "解为: 1.9345632107520243\n"
     ]
    }
   ],
   "execution_count": 25
  },
  {
   "metadata": {
    "ExecuteTime": {
     "end_time": "2024-08-09T06:56:32.469774Z",
     "start_time": "2024-08-09T06:56:32.451889Z"
    }
   },
   "cell_type": "code",
   "source": [
    "for i in range(1,10):\n",
    "    n = 1\n",
    "    while n <= i:\n",
    "        print(f\"{n}*{i}={n*i}\\t\",end=\"\")\n",
    "        n+=1\n",
    "    print(\"\\n\")"
   ],
   "id": "9bf770a84a7d0210",
   "outputs": [
    {
     "name": "stdout",
     "output_type": "stream",
     "text": [
      "1*1=1\t\n",
      "\n",
      "1*2=2\t2*2=4\t\n",
      "\n",
      "1*3=3\t2*3=6\t3*3=9\t\n",
      "\n",
      "1*4=4\t2*4=8\t3*4=12\t4*4=16\t\n",
      "\n",
      "1*5=5\t2*5=10\t3*5=15\t4*5=20\t5*5=25\t\n",
      "\n",
      "1*6=6\t2*6=12\t3*6=18\t4*6=24\t5*6=30\t6*6=36\t\n",
      "\n",
      "1*7=7\t2*7=14\t3*7=21\t4*7=28\t5*7=35\t6*7=42\t7*7=49\t\n",
      "\n",
      "1*8=8\t2*8=16\t3*8=24\t4*8=32\t5*8=40\t6*8=48\t7*8=56\t8*8=64\t\n",
      "\n",
      "1*9=9\t2*9=18\t3*9=27\t4*9=36\t5*9=45\t6*9=54\t7*9=63\t8*9=72\t9*9=81\t\n",
      "\n"
     ]
    }
   ],
   "execution_count": 5
  },
  {
   "metadata": {
    "ExecuteTime": {
     "end_time": "2024-09-03T02:35:22.608704Z",
     "start_time": "2024-09-03T02:35:22.592180Z"
    }
   },
   "cell_type": "code",
   "source": [
    "digits = [1,2,3]\n",
    "for i in digits[::-1]:\n",
    "    print(i)"
   ],
   "id": "401603231e35b062",
   "outputs": [
    {
     "name": "stdout",
     "output_type": "stream",
     "text": [
      "3\n",
      "2\n",
      "1\n"
     ]
    }
   ],
   "execution_count": 22
  }
 ],
 "metadata": {
  "kernelspec": {
   "display_name": "Python 3",
   "language": "python",
   "name": "python3"
  },
  "language_info": {
   "codemirror_mode": {
    "name": "ipython",
    "version": 3
   },
   "file_extension": ".py",
   "mimetype": "text/x-python",
   "name": "python",
   "nbconvert_exporter": "python",
   "pygments_lexer": "ipython3",
   "version": "3.8.19"
  }
 },
 "nbformat": 4,
 "nbformat_minor": 5
}
